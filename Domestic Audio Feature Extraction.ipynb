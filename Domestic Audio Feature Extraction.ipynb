{
 "cells": [
  {
   "cell_type": "code",
   "execution_count": 2,
   "metadata": {},
   "outputs": [],
   "source": [
    "%matplotlib inline\n",
    "import numpy as np\n",
    "import pandas as pd\n",
    "import matplotlib.pyplot as plt\n",
    "import librosa\n",
    "import librosa.display"
   ]
  },
  {
   "cell_type": "code",
   "execution_count": 3,
   "metadata": {},
   "outputs": [
    {
     "name": "stdout",
     "output_type": "stream",
     "text": [
      "H:\\SINS dataset\\eval\\eval\n"
     ]
    }
   ],
   "source": [
    "%cd H:/SINS dataset/eval/eval"
   ]
  },
  {
   "cell_type": "code",
   "execution_count": null,
   "metadata": {},
   "outputs": [],
   "source": []
  },
  {
   "cell_type": "code",
   "execution_count": 3,
   "metadata": {},
   "outputs": [],
   "source": [
    "def extract_features(audio_file, label):\n",
    "    y, sr = librosa.load(audio_file, sr=None, mono=True)\n",
    "    rmse = librosa.feature.rmse(y=y)\n",
    "    zcr = librosa.feature.zero_crossing_rate(y=y)\n",
    "    spec_centroid = librosa.feature.spectral_centroid(y=y, sr=sr)\n",
    "    rolloff = librosa.feature.spectral_rolloff(y=y, sr=sr)\n",
    "    spec_flux = librosa.onset.onset_strength(y=y, sr=sr)\n",
    "    mfcc = librosa.feature.mfcc(y=y,sr=sr)\n",
    "    feature_dict = {}\n",
    "    feature_dict['rmse_mean'] = rmse.mean()\n",
    "    feature_dict['rmse_std'] = rmse.std()\n",
    "    feature_dict['zcr_mean'] = zcr.mean()\n",
    "    feature_dict['zcr_std'] = zcr.std()\n",
    "    feature_dict['spec_centoid_mean'] = spec_centroid.mean()\n",
    "    feature_dict['spec_centoid_std'] = spec_centroid.std()\n",
    "    feature_dict['rolloff_mean'] = rolloff.mean()\n",
    "    feature_dict['rolloff_std'] = rolloff.std()\n",
    "    feature_dict['spec_flux_mean'] = spec_flux.mean()\n",
    "    feature_dict['spec_flux_std'] = spec_flux.std()\n",
    "    for i in range(len(mfcc)):\n",
    "        mean = 'mfcc_{0:02d}_mean'.format(i+1)\n",
    "        std = 'mfcc_{0:02d}_std'.format(i+1)\n",
    "        feature_dict[std] = mfcc[i].std()\n",
    "    feature_dict['label'] = sce_int_map[label]\n",
    "    return feature_dict"
   ]
  },
  {
   "cell_type": "code",
   "execution_count": 4,
   "metadata": {},
   "outputs": [],
   "source": [
    "afs = [line.rstrip('\\n') for line in open('meta.txt').readlines()]"
   ]
  },
  {
   "cell_type": "code",
   "execution_count": 4,
   "metadata": {},
   "outputs": [],
   "source": [
    "af=afs[0]\n",
    "y, sr = librosa.load(af, sr=None, mono=True)\n",
    "mfcc = librosa.feature.mfcc(y=y,sr=sr)"
   ]
  },
  {
   "cell_type": "code",
   "execution_count": 5,
   "metadata": {},
   "outputs": [],
   "source": [
    "af=afs[0]\n",
    "y2, sr2 = librosa.load(af, sr=32000, mono=True)\n",
    "mfcc2 = librosa.feature.mfcc(y=y2,sr=sr2)"
   ]
  },
  {
   "cell_type": "code",
   "execution_count": 5,
   "metadata": {},
   "outputs": [
    {
     "data": {
      "text/plain": [
       "(160000,)"
      ]
     },
     "execution_count": 5,
     "metadata": {},
     "output_type": "execute_result"
    }
   ],
   "source": [
    "y.shape"
   ]
  },
  {
   "cell_type": "code",
   "execution_count": 6,
   "metadata": {},
   "outputs": [
    {
     "data": {
      "text/plain": [
       "16000"
      ]
     },
     "execution_count": 6,
     "metadata": {},
     "output_type": "execute_result"
    }
   ],
   "source": [
    "sr"
   ]
  },
  {
   "cell_type": "code",
   "execution_count": 7,
   "metadata": {},
   "outputs": [
    {
     "data": {
      "text/plain": [
       "(20, 313)"
      ]
     },
     "execution_count": 7,
     "metadata": {},
     "output_type": "execute_result"
    }
   ],
   "source": [
    "mfcc.shape"
   ]
  },
  {
   "cell_type": "code",
   "execution_count": 11,
   "metadata": {},
   "outputs": [
    {
     "data": {
      "text/plain": [
       "(20, 313)"
      ]
     },
     "execution_count": 11,
     "metadata": {},
     "output_type": "execute_result"
    }
   ],
   "source": [
    "mfcc2 = librosa.feature.mfcc(y=y2[:160000],sr=sr2)\n",
    "mfcc2.shape"
   ]
  },
  {
   "cell_type": "code",
   "execution_count": 16,
   "metadata": {},
   "outputs": [],
   "source": [
    "a=np.array([1,2,3,4,5])"
   ]
  },
  {
   "cell_type": "code",
   "execution_count": 18,
   "metadata": {},
   "outputs": [
    {
     "data": {
      "text/plain": [
       "array([1, 2, 3, 4, 5, 0, 0, 0, 0, 0])"
      ]
     },
     "execution_count": 18,
     "metadata": {},
     "output_type": "execute_result"
    }
   ],
   "source": [
    "np.pad(a, (0, 10 - len(a)), 'constant', constant_values = 0)"
   ]
  },
  {
   "cell_type": "code",
   "execution_count": 4,
   "metadata": {},
   "outputs": [],
   "source": [
    "def ef(af):\n",
    "    y, sr = librosa.load(af, sr = None, mono = True)\n",
    "    mfcc = librosa.feature.mfcc(y = y, sr = sr)\n",
    "    return mfcc.T"
   ]
  },
  {
   "cell_type": "code",
   "execution_count": 7,
   "metadata": {},
   "outputs": [
    {
     "name": "stdout",
     "output_type": "stream",
     "text": [
      "Wall time: 2h 48min 51s\n"
     ]
    }
   ],
   "source": [
    "%%time\n",
    "X = {af: ef(af) for af in afs}"
   ]
  },
  {
   "cell_type": "code",
   "execution_count": 9,
   "metadata": {},
   "outputs": [],
   "source": [
    "import pickle\n",
    "with open('new/mfccs.pickle', 'wb') as handle: \n",
    "    pickle.dump(X, handle, protocol=pickle.HIGHEST_PROTOCOL)"
   ]
  },
  {
   "cell_type": "code",
   "execution_count": 11,
   "metadata": {},
   "outputs": [
    {
     "data": {
      "text/plain": [
       "72984"
      ]
     },
     "execution_count": 11,
     "metadata": {},
     "output_type": "execute_result"
    }
   ],
   "source": [
    "len(afs)"
   ]
  },
  {
   "cell_type": "code",
   "execution_count": 7,
   "metadata": {},
   "outputs": [],
   "source": [
    "af = afs[0]\n",
    "y, sr = librosa.load(af, sr=None, mono=True)"
   ]
  },
  {
   "cell_type": "code",
   "execution_count": 15,
   "metadata": {},
   "outputs": [
    {
     "data": {
      "text/plain": [
       "(128, 313)"
      ]
     },
     "execution_count": 15,
     "metadata": {},
     "output_type": "execute_result"
    }
   ],
   "source": [
    "ms = librosa.feature.melspectrogram(y=y,sr=sr)\n",
    "ms.shape"
   ]
  },
  {
   "cell_type": "code",
   "execution_count": 29,
   "metadata": {},
   "outputs": [
    {
     "data": {
      "text/plain": [
       "(20, 313)"
      ]
     },
     "execution_count": 29,
     "metadata": {},
     "output_type": "execute_result"
    }
   ],
   "source": [
    "mfcc = librosa.feature.mfcc(y=y,sr=sr)\n",
    "mfcc.shape"
   ]
  },
  {
   "cell_type": "code",
   "execution_count": 42,
   "metadata": {},
   "outputs": [
    {
     "data": {
      "text/plain": [
       "(20, 2)"
      ]
     },
     "execution_count": 42,
     "metadata": {},
     "output_type": "execute_result"
    }
   ],
   "source": [
    "a=y[:512]\n",
    "mfcc = librosa.feature.mfcc(y=a,sr=sr)\n",
    "mfcc.shape"
   ]
  },
  {
   "cell_type": "code",
   "execution_count": null,
   "metadata": {},
   "outputs": [],
   "source": [
    "l = list(range(1,11))\n",
    "for i in range()"
   ]
  },
  {
   "cell_type": "code",
   "execution_count": 13,
   "metadata": {},
   "outputs": [],
   "source": [
    "sces = set(labels)\n",
    "sce_int_map = {sce:i+1 for i,sce in enumerate(list(sces))}\n",
    "int_sce_map = {sce_int_map[i]:i for i in sce_int_map.keys()}"
   ]
  },
  {
   "cell_type": "code",
   "execution_count": 40,
   "metadata": {},
   "outputs": [],
   "source": [
    "import warnings\n",
    "warnings.filterwarnings('ignore')"
   ]
  },
  {
   "cell_type": "code",
   "execution_count": 45,
   "metadata": {},
   "outputs": [
    {
     "name": "stdout",
     "output_type": "stream",
     "text": [
      "Wall time: 2h 24min 51s\n"
     ]
    }
   ],
   "source": [
    "%%time\n",
    "X = [extract_features(af, label) for af,label in zip(afs, labels)]\n",
    "X_pd = pd.DataFrame(X)\n",
    "X_pd.to_pickle(\"domestic_audio_features.pkl\")"
   ]
  },
  {
   "cell_type": "code",
   "execution_count": 48,
   "metadata": {},
   "outputs": [
    {
     "data": {
      "text/html": [
       "<div>\n",
       "<style>\n",
       "    .dataframe thead tr:only-child th {\n",
       "        text-align: right;\n",
       "    }\n",
       "\n",
       "    .dataframe thead th {\n",
       "        text-align: left;\n",
       "    }\n",
       "\n",
       "    .dataframe tbody tr th {\n",
       "        vertical-align: top;\n",
       "    }\n",
       "</style>\n",
       "<table border=\"1\" class=\"dataframe\">\n",
       "  <thead>\n",
       "    <tr style=\"text-align: right;\">\n",
       "      <th></th>\n",
       "      <th>label</th>\n",
       "      <th>mfcc_01_mean</th>\n",
       "      <th>mfcc_01_std</th>\n",
       "      <th>mfcc_02_mean</th>\n",
       "      <th>mfcc_02_std</th>\n",
       "      <th>mfcc_03_mean</th>\n",
       "      <th>mfcc_03_std</th>\n",
       "      <th>mfcc_04_mean</th>\n",
       "      <th>mfcc_04_std</th>\n",
       "      <th>mfcc_05_mean</th>\n",
       "      <th>...</th>\n",
       "      <th>rmse_mean</th>\n",
       "      <th>rmse_std</th>\n",
       "      <th>rolloff_mean</th>\n",
       "      <th>rolloff_std</th>\n",
       "      <th>spec_centoid_mean</th>\n",
       "      <th>spec_centoid_std</th>\n",
       "      <th>spec_flux_mean</th>\n",
       "      <th>spec_flux_std</th>\n",
       "      <th>zcr_mean</th>\n",
       "      <th>zcr_std</th>\n",
       "    </tr>\n",
       "  </thead>\n",
       "  <tbody>\n",
       "    <tr>\n",
       "      <th>0</th>\n",
       "      <td>9</td>\n",
       "      <td>-336.051919</td>\n",
       "      <td>72.676704</td>\n",
       "      <td>52.751568</td>\n",
       "      <td>50.311581</td>\n",
       "      <td>20.932058</td>\n",
       "      <td>15.137371</td>\n",
       "      <td>22.713074</td>\n",
       "      <td>10.642034</td>\n",
       "      <td>13.676562</td>\n",
       "      <td>...</td>\n",
       "      <td>0.051768</td>\n",
       "      <td>0.039705</td>\n",
       "      <td>3600.289537</td>\n",
       "      <td>1720.669191</td>\n",
       "      <td>1469.152555</td>\n",
       "      <td>883.046342</td>\n",
       "      <td>1.055207</td>\n",
       "      <td>1.524605</td>\n",
       "      <td>0.006329</td>\n",
       "      <td>0.020022</td>\n",
       "    </tr>\n",
       "    <tr>\n",
       "      <th>1</th>\n",
       "      <td>9</td>\n",
       "      <td>-336.854385</td>\n",
       "      <td>77.127879</td>\n",
       "      <td>25.032802</td>\n",
       "      <td>31.575797</td>\n",
       "      <td>11.374043</td>\n",
       "      <td>16.556974</td>\n",
       "      <td>13.848688</td>\n",
       "      <td>8.344629</td>\n",
       "      <td>11.240080</td>\n",
       "      <td>...</td>\n",
       "      <td>0.046316</td>\n",
       "      <td>0.015529</td>\n",
       "      <td>4702.051717</td>\n",
       "      <td>1401.513136</td>\n",
       "      <td>1892.227442</td>\n",
       "      <td>923.234354</td>\n",
       "      <td>1.027018</td>\n",
       "      <td>1.234435</td>\n",
       "      <td>0.005552</td>\n",
       "      <td>0.025613</td>\n",
       "    </tr>\n",
       "    <tr>\n",
       "      <th>2</th>\n",
       "      <td>9</td>\n",
       "      <td>-357.847449</td>\n",
       "      <td>64.125447</td>\n",
       "      <td>30.350622</td>\n",
       "      <td>20.617674</td>\n",
       "      <td>12.364442</td>\n",
       "      <td>8.837606</td>\n",
       "      <td>12.060213</td>\n",
       "      <td>11.345274</td>\n",
       "      <td>9.299338</td>\n",
       "      <td>...</td>\n",
       "      <td>0.043852</td>\n",
       "      <td>0.000479</td>\n",
       "      <td>4420.377396</td>\n",
       "      <td>1346.985001</td>\n",
       "      <td>1676.309097</td>\n",
       "      <td>773.329444</td>\n",
       "      <td>0.879802</td>\n",
       "      <td>0.785668</td>\n",
       "      <td>0.000212</td>\n",
       "      <td>0.001167</td>\n",
       "    </tr>\n",
       "    <tr>\n",
       "      <th>3</th>\n",
       "      <td>9</td>\n",
       "      <td>-314.862922</td>\n",
       "      <td>66.357897</td>\n",
       "      <td>8.575267</td>\n",
       "      <td>25.946491</td>\n",
       "      <td>10.373437</td>\n",
       "      <td>10.781843</td>\n",
       "      <td>13.793221</td>\n",
       "      <td>7.895745</td>\n",
       "      <td>9.271161</td>\n",
       "      <td>...</td>\n",
       "      <td>0.044296</td>\n",
       "      <td>0.001244</td>\n",
       "      <td>5490.415335</td>\n",
       "      <td>1152.930682</td>\n",
       "      <td>2336.224332</td>\n",
       "      <td>858.833091</td>\n",
       "      <td>1.201696</td>\n",
       "      <td>1.554686</td>\n",
       "      <td>0.002870</td>\n",
       "      <td>0.010235</td>\n",
       "    </tr>\n",
       "    <tr>\n",
       "      <th>4</th>\n",
       "      <td>9</td>\n",
       "      <td>-335.962007</td>\n",
       "      <td>70.711474</td>\n",
       "      <td>54.434298</td>\n",
       "      <td>38.431890</td>\n",
       "      <td>15.171099</td>\n",
       "      <td>13.887398</td>\n",
       "      <td>14.233967</td>\n",
       "      <td>11.697274</td>\n",
       "      <td>10.299907</td>\n",
       "      <td>...</td>\n",
       "      <td>0.047941</td>\n",
       "      <td>0.016913</td>\n",
       "      <td>3716.328874</td>\n",
       "      <td>1350.669698</td>\n",
       "      <td>1438.245156</td>\n",
       "      <td>664.098987</td>\n",
       "      <td>1.072010</td>\n",
       "      <td>1.322863</td>\n",
       "      <td>0.004752</td>\n",
       "      <td>0.012924</td>\n",
       "    </tr>\n",
       "  </tbody>\n",
       "</table>\n",
       "<p>5 rows × 51 columns</p>\n",
       "</div>"
      ],
      "text/plain": [
       "   label  mfcc_01_mean  mfcc_01_std  mfcc_02_mean  mfcc_02_std  mfcc_03_mean  \\\n",
       "0      9   -336.051919    72.676704     52.751568    50.311581     20.932058   \n",
       "1      9   -336.854385    77.127879     25.032802    31.575797     11.374043   \n",
       "2      9   -357.847449    64.125447     30.350622    20.617674     12.364442   \n",
       "3      9   -314.862922    66.357897      8.575267    25.946491     10.373437   \n",
       "4      9   -335.962007    70.711474     54.434298    38.431890     15.171099   \n",
       "\n",
       "   mfcc_03_std  mfcc_04_mean  mfcc_04_std  mfcc_05_mean    ...     rmse_mean  \\\n",
       "0    15.137371     22.713074    10.642034     13.676562    ...      0.051768   \n",
       "1    16.556974     13.848688     8.344629     11.240080    ...      0.046316   \n",
       "2     8.837606     12.060213    11.345274      9.299338    ...      0.043852   \n",
       "3    10.781843     13.793221     7.895745      9.271161    ...      0.044296   \n",
       "4    13.887398     14.233967    11.697274     10.299907    ...      0.047941   \n",
       "\n",
       "   rmse_std  rolloff_mean  rolloff_std  spec_centoid_mean  spec_centoid_std  \\\n",
       "0  0.039705   3600.289537  1720.669191        1469.152555        883.046342   \n",
       "1  0.015529   4702.051717  1401.513136        1892.227442        923.234354   \n",
       "2  0.000479   4420.377396  1346.985001        1676.309097        773.329444   \n",
       "3  0.001244   5490.415335  1152.930682        2336.224332        858.833091   \n",
       "4  0.016913   3716.328874  1350.669698        1438.245156        664.098987   \n",
       "\n",
       "   spec_flux_mean  spec_flux_std  zcr_mean   zcr_std  \n",
       "0        1.055207       1.524605  0.006329  0.020022  \n",
       "1        1.027018       1.234435  0.005552  0.025613  \n",
       "2        0.879802       0.785668  0.000212  0.001167  \n",
       "3        1.201696       1.554686  0.002870  0.010235  \n",
       "4        1.072010       1.322863  0.004752  0.012924  \n",
       "\n",
       "[5 rows x 51 columns]"
      ]
     },
     "execution_count": 48,
     "metadata": {},
     "output_type": "execute_result"
    }
   ],
   "source": [
    "X_pd.head()"
   ]
  },
  {
   "cell_type": "code",
   "execution_count": 2,
   "metadata": {},
   "outputs": [
    {
     "data": {
      "text/plain": [
       "'C:\\\\Users\\\\jerem_000\\\\Documents\\\\Stuff\\\\Development\\\\Projects\\\\UROP\\\\AI for IoT'"
      ]
     },
     "execution_count": 2,
     "metadata": {},
     "output_type": "execute_result"
    }
   ],
   "source": [
    "%cd "
   ]
  },
  {
   "cell_type": "code",
   "execution_count": 47,
   "metadata": {},
   "outputs": [],
   "source": [
    "a=[1,2,3,4,5,6,7,8,9,10,11]\n",
    "def hops(a, l, hop):\n",
    "    final_start = len(a)//hop * hop\n",
    "    l_final = l - (len(a) - final_start)\n",
    "    b = [0] * l_final\n",
    "    tmp = [(a+b)[i:l+i] for i in range(0,len(a),hop)]\n",
    "    return [ar for ar in tmp if len(ar) == l]"
   ]
  },
  {
   "cell_type": "code",
   "execution_count": 49,
   "metadata": {},
   "outputs": [
    {
     "data": {
      "text/plain": [
       "[[1, 2, 3, 4, 5],\n",
       " [3, 4, 5, 6, 7],\n",
       " [5, 6, 7, 8, 9],\n",
       " [7, 8, 9, 10, 11],\n",
       " [9, 10, 11, 0, 0],\n",
       " [11, 0, 0, 0, 0]]"
      ]
     },
     "execution_count": 49,
     "metadata": {},
     "output_type": "execute_result"
    }
   ],
   "source": [
    "hops(a, 5, 2)"
   ]
  },
  {
   "cell_type": "code",
   "execution_count": 46,
   "metadata": {},
   "outputs": [
    {
     "data": {
      "text/plain": [
       "1"
      ]
     },
     "execution_count": 46,
     "metadata": {},
     "output_type": "execute_result"
    }
   ],
   "source": []
  },
  {
   "cell_type": "code",
   "execution_count": 44,
   "metadata": {},
   "outputs": [
    {
     "data": {
      "text/plain": [
       "[0, 0, 0]"
      ]
     },
     "execution_count": 44,
     "metadata": {},
     "output_type": "execute_result"
    }
   ],
   "source": []
  }
 ],
 "metadata": {
  "kernelspec": {
   "display_name": "Python 3",
   "language": "python",
   "name": "python3"
  },
  "language_info": {
   "codemirror_mode": {
    "name": "ipython",
    "version": 3
   },
   "file_extension": ".py",
   "mimetype": "text/x-python",
   "name": "python",
   "nbconvert_exporter": "python",
   "pygments_lexer": "ipython3",
   "version": "3.6.4"
  }
 },
 "nbformat": 4,
 "nbformat_minor": 2
}
