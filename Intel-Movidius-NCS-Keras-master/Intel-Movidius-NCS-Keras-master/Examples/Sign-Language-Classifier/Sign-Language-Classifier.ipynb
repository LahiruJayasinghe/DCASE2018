{
 "cells": [
  {
   "cell_type": "markdown",
   "metadata": {},
   "source": [
    "# Sign Language Classifier\n",
    "## By Arda Mavi\n",
    "\n",
    "### Summary:\n",
    "Classification of our own 'Sign Language Dataset' with Deep Learning library Keras (TensorFlow backend) in Intel Movidius Neural Compute Stick\n",
    "\n",
    "### Keras Model:\n",
    "In this project we use our own Sign Language Digits Dataset: [github.com/ardamavi/Vocalize-Sign-Language](https://github.com/ardamavi/Vocalize-Sign-Language) <br/>\n",
    "\n",
    "### Dataset:\n",
    "In this project we use our own Sign Language Digits Classifier: [github.com/ardamavi/Sign-Language-Digits-Dataset](https://github.com/ardamavi/Sign-Language-Digits-Dataset) <br/>\n",
    "Note: This dataset created by Zeynep Dikle & Arda Mavi"
   ]
  },
  {
   "cell_type": "code",
   "execution_count": 1,
   "metadata": {},
   "outputs": [
    {
     "name": "stderr",
     "output_type": "stream",
     "text": [
      "Using TensorFlow backend.\n"
     ]
    }
   ],
   "source": [
    "# Import\n",
    "import os\n",
    "import keras2graph\n",
    "import ncs_process"
   ]
  },
  {
   "cell_type": "code",
   "execution_count": 2,
   "metadata": {},
   "outputs": [
    {
     "name": "stdout",
     "output_type": "stream",
     "text": [
      "--2018-01-19 21:07:52--  https://media.githubusercontent.com/media/ardamavi/Vocalize-Sign-Language/master/Data/Model/model.json\n",
      "media.githubusercontent.com (media.githubusercontent.com) çözümleniyor... 151.101.64.133, 151.101.128.133, 151.101.192.133, ...\n",
      "media.githubusercontent.com (media.githubusercontent.com)[151.101.64.133]:443 bağlanılıyor... bağlantı kuruldu.\n",
      "HTTP isteği gönderildi, cevap bekleniyor... 200 OK\n",
      "Uzunluk: 6937 (6,8K) [application/octet-stream]\n",
      "Kayıt yeri: `Keras_Model/model.json'\n",
      "\n",
      "Keras_Model/model.j 100%[===================>]   6,77K  --.-KB/s    in 0,001s  \n",
      "\n",
      "2018-01-19 21:07:54 (8,40 MB/s) - `Keras_Model/model.json' kaydedildi [6937/6937]\n",
      "\n",
      "--2018-01-19 21:07:54--  https://media.githubusercontent.com/media/ardamavi/Vocalize-Sign-Language/master/Data/Model/weights.h5\n",
      "media.githubusercontent.com (media.githubusercontent.com) çözümleniyor... 151.101.64.133, 151.101.128.133, 151.101.192.133, ...\n",
      "media.githubusercontent.com (media.githubusercontent.com)[151.101.64.133]:443 bağlanılıyor... bağlantı kuruldu.\n",
      "HTTP isteği gönderildi, cevap bekleniyor... 200 OK\n",
      "Uzunluk: 18069600 (17M) [application/octet-stream]\n",
      "Kayıt yeri: `Keras_Model/weights.h5'\n",
      "\n",
      "Keras_Model/weights 100%[===================>]  17,23M   242KB/s    in 69s     \n",
      "\n",
      "2018-01-19 21:09:10 (257 KB/s) - `Keras_Model/weights.h5' kaydedildi [18069600/18069600]\n",
      "\n"
     ]
    }
   ],
   "source": [
    "# Getting model:\n",
    "if not os.path.exists('Keras_Model'):\n",
    "    os.makedirs('Keras_Model')\n",
    "! wget https://media.githubusercontent.com/media/ardamavi/Vocalize-Sign-Language/master/Data/Model/model.json -O Keras_Model/model.json && wget https://media.githubusercontent.com/media/ardamavi/Vocalize-Sign-Language/master/Data/Model/weights.h5 -O Keras_Model/weights.h5"
   ]
  },
  {
   "cell_type": "code",
   "execution_count": 3,
   "metadata": {},
   "outputs": [
    {
     "name": "stderr",
     "output_type": "stream",
     "text": [
      "/usr/local/lib/python3.5/dist-packages/tensorflow/python/util/tf_inspect.py:45: DeprecationWarning: inspect.getargspec() is deprecated, use inspect.signature() instead\n",
      "  if d.decorator_argspec is not None), _inspect.getargspec(target))\n"
     ]
    },
    {
     "name": "stdout",
     "output_type": "stream",
     "text": [
      "Model Summary:\n",
      "_________________________________________________________________\n",
      "Layer (type)                 Output Shape              Param #   \n",
      "=================================================================\n",
      "input_1 (InputLayer)         (None, 64, 64, 1)         0         \n",
      "_________________________________________________________________\n",
      "conv2d_1 (Conv2D)            (None, 64, 64, 32)        320       \n",
      "_________________________________________________________________\n",
      "activation_1 (Activation)    (None, 64, 64, 32)        0         \n",
      "_________________________________________________________________\n",
      "conv2d_2 (Conv2D)            (None, 64, 64, 64)        18496     \n",
      "_________________________________________________________________\n",
      "activation_2 (Activation)    (None, 64, 64, 64)        0         \n",
      "_________________________________________________________________\n",
      "max_pooling2d_1 (MaxPooling2 (None, 32, 32, 64)        0         \n",
      "_________________________________________________________________\n",
      "conv2d_3 (Conv2D)            (None, 32, 32, 64)        36928     \n",
      "_________________________________________________________________\n",
      "activation_3 (Activation)    (None, 32, 32, 64)        0         \n",
      "_________________________________________________________________\n",
      "max_pooling2d_2 (MaxPooling2 (None, 16, 16, 64)        0         \n",
      "_________________________________________________________________\n",
      "conv2d_4 (Conv2D)            (None, 16, 16, 128)       73856     \n",
      "_________________________________________________________________\n",
      "activation_4 (Activation)    (None, 16, 16, 128)       0         \n",
      "_________________________________________________________________\n",
      "max_pooling2d_3 (MaxPooling2 (None, 8, 8, 128)         0         \n",
      "_________________________________________________________________\n",
      "flatten_1 (Flatten)          (None, 8192)              0         \n",
      "_________________________________________________________________\n",
      "dense_1 (Dense)              (None, 526)               4309518   \n",
      "_________________________________________________________________\n",
      "activation_5 (Activation)    (None, 526)               0         \n",
      "_________________________________________________________________\n",
      "dropout_1 (Dropout)          (None, 526)               0         \n",
      "_________________________________________________________________\n",
      "dense_2 (Dense)              (None, 128)               67456     \n",
      "_________________________________________________________________\n",
      "activation_6 (Activation)    (None, 128)               0         \n",
      "_________________________________________________________________\n",
      "dense_3 (Dense)              (None, 10)                1290      \n",
      "_________________________________________________________________\n",
      "activation_7 (Activation)    (None, 10)                0         \n",
      "=================================================================\n",
      "Total params: 4,507,864\n",
      "Trainable params: 4,507,864\n",
      "Non-trainable params: 0\n",
      "_________________________________________________________________\n",
      "None\n"
     ]
    }
   ],
   "source": [
    "# Converting Keras model to Intel Movidius technology internal compiled format graph:\n",
    "keras2graph.keras_to_graph('Keras_Model/model.json', 'input_1', 'activation_7/Softmax', 'Keras_Model/weights.h5', './graph', False)"
   ]
  },
  {
   "cell_type": "code",
   "execution_count": null,
   "metadata": {},
   "outputs": [],
   "source": [
    "# Get ready Movidius for running graph:\n",
    "ncs_model, device = ncs_process.ready_ai_ncs('./graph', device_index=0)"
   ]
  },
  {
   "cell_type": "code",
   "execution_count": null,
   "metadata": {},
   "outputs": [],
   "source": [
    "# Getting example image:\n",
    "example_image = # TODO: Get image"
   ]
  },
  {
   "cell_type": "code",
   "execution_count": null,
   "metadata": {},
   "outputs": [],
   "source": [
    "# Getting output of graph:\n",
    "output = ncs_process.ncs_predict(ncs_model, example_image)\n",
    "print(output[0][0])"
   ]
  }
 ],
 "metadata": {
  "kernelspec": {
   "display_name": "Python 3",
   "language": "python",
   "name": "python3"
  },
  "language_info": {
   "codemirror_mode": {
    "name": "ipython",
    "version": 3
   },
   "file_extension": ".py",
   "mimetype": "text/x-python",
   "name": "python",
   "nbconvert_exporter": "python",
   "pygments_lexer": "ipython3",
   "version": "3.5.2"
  }
 },
 "nbformat": 4,
 "nbformat_minor": 2
}
